{
 "cells": [
  {
   "cell_type": "code",
   "execution_count": 1,
   "id": "e04e4fc3",
   "metadata": {},
   "outputs": [],
   "source": [
    "# Getting the iris dataset and splitting it into train and test data\n",
    "from sklearn.datasets import load_iris\n",
    "from sklearn.model_selection import train_test_split\n",
    "\n",
    "irisData = load_iris()\n",
    "X = irisData.data\n",
    "y = irisData.target\n",
    "\n",
    "X_train, X_test, y_train, y_test = train_test_split(\n",
    "             X, y, test_size = 0.2)\n"
   ]
  },
  {
   "cell_type": "code",
   "execution_count": 2,
   "id": "cdd050e1",
   "metadata": {},
   "outputs": [
    {
     "name": "stdout",
     "output_type": "stream",
     "text": [
      "[0, 0, 1, 0, 1, 2, 2, 0, 0, 1, 2, 1, 1, 2, 1, 0, 1, 0, 2, 2, 1, 2, 0, 0, 2, 2, 0, 1, 1, 0]\n"
     ]
    }
   ],
   "source": [
    "# Using knn algorithm implemented by me\n",
    "import kNN_mymodule\n",
    "\n",
    "kNN = kNN_mymodule.KNN\n",
    "model = kNN(k_neigh=2, p=2)\n",
    "model.fit(X_train, y_train)\n",
    "print(model.predict(X_test))"
   ]
  },
  {
   "cell_type": "code",
   "execution_count": 3,
   "id": "71b45964",
   "metadata": {},
   "outputs": [
    {
     "name": "stdout",
     "output_type": "stream",
     "text": [
      "[0 0 1 0 1 2 2 0 0 1 2 1 1 2 1 0 1 0 2 2 1 2 0 0 2 2 0 1 1 0]\n"
     ]
    }
   ],
   "source": [
    "# Comparing with sklearn knn module, therefore verifying\n",
    "from sklearn.neighbors import KNeighborsClassifier\n",
    "\n",
    "knn = KNeighborsClassifier(n_neighbors=2,p=2)\n",
    "knn.fit(X_train, y_train)\n",
    "print(knn.predict(X_test))"
   ]
  },
  {
   "cell_type": "code",
   "execution_count": 4,
   "id": "4df267cc",
   "metadata": {},
   "outputs": [
    {
     "name": "stdout",
     "output_type": "stream",
     "text": [
      "0.9666666666666667\n",
      "0.9666666666666667\n"
     ]
    }
   ],
   "source": [
    "# Verification of test data accuracy\n",
    "print(model.evaluate(X_test,y_test))\n",
    "print(knn.score(X_test,y_test))"
   ]
  },
  {
   "cell_type": "code",
   "execution_count": 5,
   "id": "77852b14",
   "metadata": {},
   "outputs": [
    {
     "name": "stdout",
     "output_type": "stream",
     "text": [
      "[0, 0, 1, 0, 1, 2, 2, 0, 0, 1, 2, 1, 1, 2, 1, 0, 1, 0, 2, 2, 1, 2, 0, 0, 2, 2, 0, 1, 1, 0]\n"
     ]
    }
   ],
   "source": [
    "# Example2\n",
    "model2 = kNN(k_neigh=3,p=3,weighted=True)\n",
    "model2.fit(X_train, y_train)\n",
    "print(model.predict(X_test))"
   ]
  },
  {
   "cell_type": "code",
   "execution_count": 6,
   "id": "f4947668",
   "metadata": {},
   "outputs": [
    {
     "name": "stdout",
     "output_type": "stream",
     "text": [
      "[0 0 1 0 1 2 2 0 0 1 2 1 1 2 1 0 1 0 2 2 2 2 0 0 2 2 0 1 1 0]\n"
     ]
    }
   ],
   "source": [
    "knn2 = KNeighborsClassifier(n_neighbors=3,p=3,weights='distance')\n",
    "knn2.fit(X_train, y_train)\n",
    "print(knn2.predict(X_test))"
   ]
  },
  {
   "cell_type": "code",
   "execution_count": 7,
   "id": "25c8820c",
   "metadata": {},
   "outputs": [
    {
     "name": "stdout",
     "output_type": "stream",
     "text": [
      "1.0\n",
      "1.0\n"
     ]
    }
   ],
   "source": [
    "print(model2.evaluate(X_test,y_test))\n",
    "print(knn2.score(X_test,y_test))"
   ]
  }
 ],
 "metadata": {
  "kernelspec": {
   "display_name": "Python 3 (ipykernel)",
   "language": "python",
   "name": "python3"
  },
  "language_info": {
   "codemirror_mode": {
    "name": "ipython",
    "version": 3
   },
   "file_extension": ".py",
   "mimetype": "text/x-python",
   "name": "python",
   "nbconvert_exporter": "python",
   "pygments_lexer": "ipython3",
   "version": "3.10.6"
  }
 },
 "nbformat": 4,
 "nbformat_minor": 5
}
